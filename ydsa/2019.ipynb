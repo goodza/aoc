{
 "cells": [
  {
   "cell_type": "markdown",
   "metadata": {},
   "source": [
    "\n",
    "A. Частый элемент\n",
    "Ограничение времени \t2 секунды\n",
    "Ограничение памяти \t256Mb\n",
    "\n",
    "Отправить на проверку нужно исходный код программы, решающей поставленную задачу.\n",
    "\n",
    "Дан массив a из n целых чисел. Напишите программу, которая найдет число, которое встречается в массиве наибольшее число раз.\n",
    "Формат ввода\n",
    "\n",
    "В первой строке входных данных записано число n (1 ≤ n ≤ 300 000). Во второй строке записаны n целых чисел ai (0 ≤ ai ≤ 1 000 000 000).\n",
    "Формат вывода\n",
    "\n",
    "Выведите единственное число x, наибольшее из чисел, которое встречается в a максимальное количество раз. "
   ]
  },
  {
   "cell_type": "code",
   "execution_count": null,
   "metadata": {},
   "outputs": [],
   "source": [
    "f = open(\"2019.txt\",\"r+\")\n",
    "n = int(f.readline())\n",
    "a = f.readline().split(' ')\n",
    "a = a[0:n]\n",
    "\n",
    "print(n)\n",
    "print(a)\n",
    "\n",
    "\n",
    "freq = [a.count(i) for i in a]\n",
    "m = max(freq)\n",
    "print(freq)\n",
    "print(m)\n",
    "\n",
    "x = 0\n",
    "\n",
    "for i in range(len(a)):\n",
    "    p = int(a[i])\n",
    "    if (freq[i] == m):\n",
    "        if (p > x):\n",
    "            x = p\n",
    "            \n",
    "\n",
    "\n",
    "print(x, file=open('output.txt', 'w'))\n",
    "\n",
    "\n"
   ]
  },
  {
   "cell_type": "code",
   "execution_count": 33,
   "metadata": {},
   "outputs": [
    {
     "name": "stdout",
     "output_type": "stream",
     "text": [
      "[4, 4, 4, 21, 9, 4, 21, 23, 67, 1, 21, 21, 9, 13, 23, 67, 0]\n",
      "Counter({4: 4, 21: 4, 9: 2, 23: 2, 67: 2, 1: 1, 13: 1, 0: 1})\n",
      "21\n"
     ]
    }
   ],
   "source": [
    "from collections import Counter\n",
    "x = 0\n",
    "f = open(\"2019.txt\",\"r+\")\n",
    "n = int(f.readline())\n",
    "a = [int(i) for i in f.readline().split()]\n",
    "\n",
    "print(a)\n",
    "print(Counter(a))\n",
    "c = Counter(a)\n",
    "ma = 0\n",
    "mi = 0\n",
    "\n",
    "for i in c:\n",
    "    if c[i]>ma or (i>mi and c[i]==ma):\n",
    "        ma = c[i]\n",
    "        mi = i\n",
    "\n",
    "print(mi)\n",
    "\n"
   ]
  },
  {
   "cell_type": "code",
   "execution_count": 52,
   "metadata": {},
   "outputs": [
    {
     "name": "stdout",
     "output_type": "stream",
     "text": [
      "21\n"
     ]
    }
   ],
   "source": [
    "print(max([i for i in c if  c[i] == c.most_common()[0][1] ]))"
   ]
  },
  {
   "cell_type": "code",
   "execution_count": 53,
   "metadata": {},
   "outputs": [
    {
     "name": "stdout",
     "output_type": "stream",
     "text": [
      "None\n"
     ]
    }
   ],
   "source": [
    "print(c.clear())"
   ]
  }
 ],
 "metadata": {
  "kernelspec": {
   "display_name": "Python 3",
   "language": "python",
   "name": "python3"
  },
  "language_info": {
   "codemirror_mode": {
    "name": "ipython",
    "version": 3
   },
   "file_extension": ".py",
   "mimetype": "text/x-python",
   "name": "python",
   "nbconvert_exporter": "python",
   "pygments_lexer": "ipython3",
   "version": "3.7.3"
  }
 },
 "nbformat": 4,
 "nbformat_minor": 2
}
