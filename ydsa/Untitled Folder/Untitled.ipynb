{
 "cells": [
  {
   "cell_type": "code",
   "execution_count": 13,
   "metadata": {},
   "outputs": [
    {
     "name": "stdout",
     "output_type": "stream",
     "text": [
      "[0, 100, 0]\n",
      "905485119\n"
     ]
    }
   ],
   "source": [
    "# s1 = '4'\n",
    "# s2 = '0 0 0 0'\n",
    "\n",
    "s1 = '9'\n",
    "s2 = '0 3 0 1 2 1 3 1 0'\n",
    "\n",
    "s1 = '3'\n",
    "s2 = '0 100 0'\n",
    "\n",
    "n = int(s1)\n",
    "d = [int(i) for i in s2.split()]\n",
    "\n",
    "d = d[0:n]\n",
    "print(d)\n",
    "\n",
    "k = -1\n",
    "for i in d:\n",
    "    k += 1\n",
    "    if i > 0:\n",
    "        k += i\n",
    "\n",
    "\n",
    "        print(int((2**k)%(1e9+7)))"
   ]
  },
  {
   "cell_type": "code",
   "execution_count": 71,
   "metadata": {},
   "outputs": [
    {
     "name": "stdout",
     "output_type": "stream",
     "text": [
      "{(2,), (1,)}\n",
      "4\n"
     ]
    }
   ],
   "source": [
    "from itertools import product,permutations\n",
    "\n",
    "t  = {1,2}\n",
    "t1 = {1,2}\n",
    "t2 = (2,t,3)\n",
    "t3 = {3,(3,4),4}\n",
    "\n",
    "\n",
    "\n",
    "c = set(product(t1,t))\n",
    "# print(set(t+t1))\n",
    "print(set(permutations(t,1)))\n",
    "print(len(c))"
   ]
  },
  {
   "cell_type": "code",
   "execution_count": null,
   "metadata": {},
   "outputs": [],
   "source": []
  }
 ],
 "metadata": {
  "kernelspec": {
   "display_name": "Python 3",
   "language": "python",
   "name": "python3"
  },
  "language_info": {
   "codemirror_mode": {
    "name": "ipython",
    "version": 3
   },
   "file_extension": ".py",
   "mimetype": "text/x-python",
   "name": "python",
   "nbconvert_exporter": "python",
   "pygments_lexer": "ipython3",
   "version": "3.7.3"
  }
 },
 "nbformat": 4,
 "nbformat_minor": 2
}
