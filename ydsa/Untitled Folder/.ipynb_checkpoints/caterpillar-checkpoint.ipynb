{
 "cells": [
  {
   "cell_type": "code",
   "execution_count": 91,
   "metadata": {},
   "outputs": [
    {
     "name": "stdout",
     "output_type": "stream",
     "text": [
      "89\n",
      "3\n",
      "0\n",
      "1\n",
      "2\n",
      "1\n",
      "3\n",
      "1\n",
      "180225\n"
     ]
    }
   ],
   "source": [
    "# d = [0,100,0]\n",
    "d = [0,3,0,1,2,1,3,1,0]\n",
    "\n",
    "c0 = 2\n",
    "c = 3\n",
    "\n",
    "for i in range(1,len(d)-1):\n",
    "    cc=c\n",
    "    c+=c0\n",
    "    c0=cc\n",
    "\n",
    "print(c)\n",
    "    \n",
    "for i in range(1,len(d)-1):\n",
    "    print(d[i])\n",
    "    for j in range(d[i]):\n",
    "        c+=c-1\n",
    "        \n",
    "print(c)"
   ]
  },
  {
   "cell_type": "code",
   "execution_count": 278,
   "metadata": {},
   "outputs": [
    {
     "name": "stdout",
     "output_type": "stream",
     "text": [
      "{'ACEFG', 'ABCDFG', 'ABCDEF', 'ACEG', 'ABDEFG', 'ABCDEG', 'ABCEFG', 'BDEG', 'ABCEF', 'BCEF', 'ABDF', 'BDEF', 'BCEFG', 'BCDF', 'ACDEF', 'ACDFG', 'BDF', 'ABDEG', 'BCEG', 'ACEF', 'BCDEF', 'ABDEF', 'BDEFG', 'ABCEG', 'BCDFG', 'BCDEFG', 'ABCDF', 'ABCDEFG', 'ACDF', 'ACDEG', 'ACDEFG', 'ABDFG', 'BCDEG', 'BDFG'}\n",
      "{'ABCDFG', '1ABCEFG', '1ACDEF', 'ABCDEF', 'ABDEFG', '1ABCDFG', 'BDEG', '1BDF', '1ACEFG', 'BCDF', 'BDF', 'ACDFG', '1BDEF', '1ABDEFG', '1BCDEF', '1ABCDEF', 'BCDEF', '1BCEG', 'BCDFG', 'ABCDF', '1BCEF', 'ABCDEFG', '1ABDFG', 'ACDF', '1ABCDEFG', 'ACDEFG', 'ABDFG', 'BCDEG', '1ACDEFG', '1ABCDEG', '1BCDF', 'ABCDEG', '1ABDF', '1ACEF', 'ABDF', '1ABDEF', 'BDEF', '1ACDFG', 'ACDEF', '1ABCEG', '1BCDFG', '1BDFG', 'ABDEG', '1ABCDF', '1ABCEF', '1ACEG', 'ABDEF', '1BDEG', '1ACDEG', 'BCDEFG', '1BCDEG', '1BCDEFG', '1ACDF', '1BDEFG', 'ACDEG', 'BDEFG', '1BCEFG', '1ABDEG', 'BDFG'}\n",
      "59\n"
     ]
    }
   ],
   "source": [
    "ds = 'ABCDEFGHIJKLMNOPQRSTUVWXYZ'\n",
    "db = '123456789'\n",
    "d = [0,0,0,1,0,0,0]\n",
    "s = set({'A','B','AB'})\n",
    "def add(C,c):\n",
    "    for i in c:\n",
    "        if i not in C:\n",
    "            C = ''.join(sorted(C+i))\n",
    "    return C\n",
    "def product(s,c):\n",
    "    ss = s.copy()\n",
    "    for i in s:\n",
    "        ss.remove(i)\n",
    "        ss.add(add(i,c))\n",
    "    return ss\n",
    "def branchin(s,dom,b):\n",
    "    return product(s,dom).union(product(s,b))\n",
    "for i in range(2,len(d)):\n",
    "    s = branchin(s,ds[i],ds[i-1])\n",
    "print(s)\n",
    "for i in range(1,len(d)-1):\n",
    "    for j in range(0,d[i]):\n",
    "        s = branchin(s,ds[i],db[j])\n",
    "\n",
    "print(s)\n",
    "print(len(s))"
   ]
  }
 ],
 "metadata": {
  "kernelspec": {
   "display_name": "Python 3",
   "language": "python",
   "name": "python3"
  },
  "language_info": {
   "codemirror_mode": {
    "name": "ipython",
    "version": 3
   },
   "file_extension": ".py",
   "mimetype": "text/x-python",
   "name": "python",
   "nbconvert_exporter": "python",
   "pygments_lexer": "ipython3",
   "version": "3.7.3"
  }
 },
 "nbformat": 4,
 "nbformat_minor": 2
}
