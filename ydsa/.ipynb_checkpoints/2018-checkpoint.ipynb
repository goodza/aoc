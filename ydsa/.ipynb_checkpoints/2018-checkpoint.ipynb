{
 "cells": [
  {
   "cell_type": "markdown",
   "metadata": {},
   "source": [
    "\n",
    "A. Частый элемент\n",
    "Ограничение времени \t2 секунды\n",
    "Ограничение памяти \t256Mb\n",
    "\n",
    "Отправить на проверку нужно исходный код программы, решающей поставленную задачу.\n",
    "\n",
    "Дан массив a из n целых чисел. Напишите программу, которая найдет число, которое встречается в массиве наибольшее число раз.\n",
    "Формат ввода\n",
    "\n",
    "В первой строке входных данных записано число n (1 ≤ n ≤ 300 000). Во второй строке записаны n целых чисел ai (0 ≤ ai ≤ 1 000 000 000).\n",
    "Формат вывода\n",
    "\n",
    "Выведите единственное число x, наибольшее из чисел, которое встречается в a максимальное количество раз. "
   ]
  },
  {
   "cell_type": "code",
   "execution_count": null,
   "metadata": {},
   "outputs": [],
   "source": [
    "f = open(\"2019.txt\",\"r+\")\n",
    "n = int(f.readline())\n",
    "a = f.readline().split(' ')\n",
    "a = a[0:n]\n",
    "\n",
    "print(n)\n",
    "print(a)\n",
    "\n",
    "\n",
    "freq = [a.count(i) for i in a]\n",
    "m = max(freq)\n",
    "print(freq)\n",
    "print(m)\n",
    "\n",
    "x = 0\n",
    "\n",
    "for i in range(len(a)):\n",
    "    p = int(a[i])\n",
    "    if (freq[i] == m):\n",
    "        if (p > x):\n",
    "            x = p\n",
    "            \n",
    "\n",
    "\n",
    "print(x, file=open('output.txt', 'w'))\n",
    "\n",
    "\n"
   ]
  },
  {
   "cell_type": "code",
   "execution_count": 33,
   "metadata": {},
   "outputs": [
    {
     "name": "stdout",
     "output_type": "stream",
     "text": [
      "[4, 4, 4, 21, 9, 4, 21, 23, 67, 1, 21, 21, 9, 13, 23, 67, 0]\n",
      "Counter({4: 4, 21: 4, 9: 2, 23: 2, 67: 2, 1: 1, 13: 1, 0: 1})\n",
      "21\n"
     ]
    }
   ],
   "source": [
    "from collections import Counter\n",
    "x = 0\n",
    "f = open(\"2019.txt\",\"r+\")\n",
    "n = int(f.readline())\n",
    "a = [int(i) for i in f.readline().split()]\n",
    "\n",
    "print(a)\n",
    "print(Counter(a))\n",
    "c = Counter(a)\n",
    "ma = 0\n",
    "mi = 0\n",
    "\n",
    "for i in c:\n",
    "    if c[i]>ma or (i>mi and c[i]==ma):\n",
    "        ma = c[i]\n",
    "        mi = i\n",
    "\n",
    "print(mi)\n",
    "\n"
   ]
  },
  {
   "cell_type": "code",
   "execution_count": 1,
   "metadata": {},
   "outputs": [
    {
     "ename": "NameError",
     "evalue": "name 'c' is not defined",
     "output_type": "error",
     "traceback": [
      "\u001b[0;31m---------------------------------------------------------------------------\u001b[0m",
      "\u001b[0;31mNameError\u001b[0m                                 Traceback (most recent call last)",
      "\u001b[0;32m<ipython-input-1-05c0e52e7237>\u001b[0m in \u001b[0;36m<module>\u001b[0;34m\u001b[0m\n\u001b[0;32m----> 1\u001b[0;31m \u001b[0mprint\u001b[0m\u001b[0;34m(\u001b[0m\u001b[0mmax\u001b[0m\u001b[0;34m(\u001b[0m\u001b[0;34m[\u001b[0m\u001b[0mi\u001b[0m \u001b[0;32mfor\u001b[0m \u001b[0mi\u001b[0m \u001b[0;32min\u001b[0m \u001b[0mc\u001b[0m \u001b[0;32mif\u001b[0m  \u001b[0mc\u001b[0m\u001b[0;34m[\u001b[0m\u001b[0mi\u001b[0m\u001b[0;34m]\u001b[0m \u001b[0;34m==\u001b[0m \u001b[0mc\u001b[0m\u001b[0;34m.\u001b[0m\u001b[0mmost_common\u001b[0m\u001b[0;34m(\u001b[0m\u001b[0;34m)\u001b[0m\u001b[0;34m[\u001b[0m\u001b[0;36m0\u001b[0m\u001b[0;34m]\u001b[0m\u001b[0;34m[\u001b[0m\u001b[0;36m1\u001b[0m\u001b[0;34m]\u001b[0m \u001b[0;34m]\u001b[0m\u001b[0;34m)\u001b[0m\u001b[0;34m)\u001b[0m\u001b[0;34m\u001b[0m\u001b[0;34m\u001b[0m\u001b[0m\n\u001b[0m",
      "\u001b[0;31mNameError\u001b[0m: name 'c' is not defined"
     ]
    }
   ],
   "source": [
    "print(max([i for i in c if  c[i] == c.most_common()[0][1] ]))"
   ]
  },
  {
   "cell_type": "code",
   "execution_count": 3,
   "metadata": {},
   "outputs": [
    {
     "name": "stdout",
     "output_type": "stream",
     "text": [
      "['1', '2', '3', '3', '2', '1', '4', '1', '2', '0']\n"
     ]
    }
   ],
   "source": [
    "n = '1 2 3 3 2 1 4 1 2 0'.split()\n",
    "print(n)\n",
    "\n"
   ]
  },
  {
   "cell_type": "code",
   "execution_count": null,
   "metadata": {},
   "outputs": [],
   "source": []
  }
 ],
 "metadata": {
  "kernelspec": {
   "display_name": "Python 3",
   "language": "python",
   "name": "python3"
  },
  "language_info": {
   "codemirror_mode": {
    "name": "ipython",
    "version": 3
   },
   "file_extension": ".py",
   "mimetype": "text/x-python",
   "name": "python",
   "nbconvert_exporter": "python",
   "pygments_lexer": "ipython3",
   "version": "3.7.3"
  }
 },
 "nbformat": 4,
 "nbformat_minor": 2
}
