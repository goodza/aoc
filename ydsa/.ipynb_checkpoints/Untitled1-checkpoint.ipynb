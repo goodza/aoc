{
 "cells": [
  {
   "cell_type": "code",
   "execution_count": 24,
   "metadata": {},
   "outputs": [
    {
     "name": "stdout",
     "output_type": "stream",
     "text": [
      "[79.02, 36.68, 79.83, 76.0, 95.48, 48.84, 49.95, 91.91]\n",
      "[4.369700984983244, 3.602231647388264, 4.379899373657707, 4.330733340286331, 4.558916801470629, 3.888549649242504, 3.9110225050945626, 4.5208098373700185]\n",
      "7.971932632371509\n",
      "53.837288\n"
     ]
    }
   ],
   "source": [
    "from math import log,exp\n",
    "\n",
    "# n = int(input())\n",
    "\n",
    "a = [float(i) for i in '79.02 36.68 79.83 76.00 95.48 48.84 49.95 91.91'.split()]\n",
    "print(a)\n",
    "# q = int(input())\n",
    "q = 10\n",
    "m = []\n",
    "\n",
    "al = []\n",
    "for i in a:\n",
    "    al.append(log(i))\n",
    "print(al)\n",
    "\n",
    "s = '0 1'.split()\n",
    "l = int(s[0])\n",
    "r = int(s[1])\n",
    "p = 0\n",
    "\n",
    "for i in range(l,r+1):\n",
    "    p += al[i]\n",
    "print(p)\n",
    "p = float(\"{:.6f}\".format(exp(p/(r-l+1))))\n",
    "\n",
    "print(p)"
   ]
  }
 ],
 "metadata": {
  "kernelspec": {
   "display_name": "Python 3",
   "language": "python",
   "name": "python3"
  },
  "language_info": {
   "codemirror_mode": {
    "name": "ipython",
    "version": 3
   },
   "file_extension": ".py",
   "mimetype": "text/x-python",
   "name": "python",
   "nbconvert_exporter": "python",
   "pygments_lexer": "ipython3",
   "version": "3.7.3"
  }
 },
 "nbformat": 4,
 "nbformat_minor": 2
}
