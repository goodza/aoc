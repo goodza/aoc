{
 "cells": [
  {
   "cell_type": "code",
   "execution_count": 1,
   "metadata": {},
   "outputs": [],
   "source": [
    "from collections import defaultdict\n",
    "from copy import copy\n",
    "\n",
    "d = defaultdict(list)\n",
    "for s in open('610.txt'):\n",
    "    s1= s.split(')')[1].split('\\n')[0]\n",
    "    s0= s.split(')')[0]\n",
    "    d[s0].append(s1)\n",
    "    "
   ]
  },
  {
   "cell_type": "code",
   "execution_count": 4,
   "metadata": {},
   "outputs": [
    {
     "ename": "SyntaxError",
     "evalue": "Missing parentheses in call to 'print'. Did you mean print('ok')? (<ipython-input-4-13e94c79b782>, line 1)",
     "output_type": "error",
     "traceback": [
      "\u001b[0;36m  File \u001b[0;32m\"<ipython-input-4-13e94c79b782>\"\u001b[0;36m, line \u001b[0;32m1\u001b[0m\n\u001b[0;31m    print 'ok'\u001b[0m\n\u001b[0m          ^\u001b[0m\n\u001b[0;31mSyntaxError\u001b[0m\u001b[0;31m:\u001b[0m Missing parentheses in call to 'print'. Did you mean print('ok')?\n"
     ]
    }
   ],
   "source": [
    "print 'ok'"
   ]
  },
  {
   "cell_type": "code",
   "execution_count": 9,
   "metadata": {},
   "outputs": [
    {
     "ename": "RuntimeError",
     "evalue": "dictionary changed size during iteration",
     "output_type": "error",
     "traceback": [
      "\u001b[0;31m---------------------------------------------------------------------------\u001b[0m",
      "\u001b[0;31mRuntimeError\u001b[0m                              Traceback (most recent call last)",
      "\u001b[0;32m<ipython-input-9-ed4518fe1f3a>\u001b[0m in \u001b[0;36m<module>\u001b[0;34m\u001b[0m\n\u001b[1;32m     13\u001b[0m \u001b[0;34m\u001b[0m\u001b[0m\n\u001b[1;32m     14\u001b[0m \u001b[0mc\u001b[0m \u001b[0;34m=\u001b[0m \u001b[0;36m0\u001b[0m\u001b[0;34m\u001b[0m\u001b[0;34m\u001b[0m\u001b[0m\n\u001b[0;32m---> 15\u001b[0;31m \u001b[0;32mfor\u001b[0m \u001b[0mi\u001b[0m \u001b[0;32min\u001b[0m \u001b[0md\u001b[0m\u001b[0;34m:\u001b[0m\u001b[0;34m\u001b[0m\u001b[0;34m\u001b[0m\u001b[0m\n\u001b[0m\u001b[1;32m     16\u001b[0m     \u001b[0mc\u001b[0m\u001b[0;34m+=\u001b[0m\u001b[0mdeep\u001b[0m\u001b[0;34m(\u001b[0m\u001b[0mi\u001b[0m\u001b[0;34m)\u001b[0m\u001b[0;34m\u001b[0m\u001b[0;34m\u001b[0m\u001b[0m\n\u001b[1;32m     17\u001b[0m \u001b[0mc\u001b[0m\u001b[0;34m\u001b[0m\u001b[0;34m\u001b[0m\u001b[0m\n",
      "\u001b[0;31mRuntimeError\u001b[0m: dictionary changed size during iteration"
     ]
    }
   ],
   "source": [
    "\"\"\"part1\n",
    "   d[s1].append(s0)\n",
    "\"\"\"     \n",
    "\n",
    "# ddeep = dict()\n",
    "\n",
    "# def deep(e):\n",
    "#     n = 0\n",
    "#     if d[e] != []:\n",
    "#         n+=1\n",
    "#         n+=deep(d[e][0])\n",
    "#     return n\n",
    "\n",
    "# c = 0\n",
    "# for i in d:\n",
    "#     c+=deep(i)\n",
    "# c"
   ]
  },
  {
   "cell_type": "code",
   "execution_count": 26,
   "metadata": {},
   "outputs": [
    {
     "name": "stdout",
     "output_type": "stream",
     "text": [
      "defaultdict(<class 'set'>, {'B': {'COM', 'C', 'G'}, 'C': {'D', 'B'}, 'G': {'B'}, 'COM': {'B'}, 'D': {'C', 'E', 'I'}, 'E': {'J', 'D'}, 'I': {'D'}, 'F': {'E'}, 'J': {'K', 'E'}, 'H': {'G'}, 'K': {'J'}, 'L': {'K'}, 'YOU': {'K'}, 'SAN': {'I'}})\n"
     ]
    }
   ],
   "source": [
    "d2 = defaultdict(set)\n",
    "for i in d:\n",
    "    for j in d[i]:\n",
    "        d2[j].add(i)\n",
    "print(d2)"
   ]
  },
  {
   "cell_type": "code",
   "execution_count": null,
   "metadata": {},
   "outputs": [],
   "source": [
    "def short(t,f):\n",
    "    n = 0\n",
    "    if (not f in t) or :\n",
    "        n += 1\n",
    "        c = 0\n",
    "        for i in t:\n",
    "            short(t,f)\n",
    "    else:\n",
    "        return n\n",
    "\n",
    "print(short({'I'},'YOU'))"
   ]
  },
  {
   "cell_type": "code",
   "execution_count": 27,
   "metadata": {},
   "outputs": [
    {
     "data": {
      "text/plain": [
       "['C', 'E', 'I']"
      ]
     },
     "execution_count": 27,
     "metadata": {},
     "output_type": "execute_result"
    }
   ],
   "source": [
    "def findall(e,p):\n",
    "    s = []\n",
    "    for i in d:\n",
    "        if e in d[i] and i != p:\n",
    "            s.append(i)\n",
    "    return s\n",
    "\n",
    "findall('D','SAN')\n",
    "\n",
    "# e\n",
    "# def short():\n",
    "#     findall()\n",
    "\n",
    "\n"
   ]
  },
  {
   "cell_type": "code",
   "execution_count": null,
   "metadata": {},
   "outputs": [],
   "source": []
  }
 ],
 "metadata": {
  "kernelspec": {
   "display_name": "py3.9-dev",
   "language": "python",
   "name": "my-virtualenv-name"
  },
  "language_info": {
   "codemirror_mode": {
    "name": "ipython",
    "version": 3
   },
   "file_extension": ".py",
   "mimetype": "text/x-python",
   "name": "python",
   "nbconvert_exporter": "python",
   "pygments_lexer": "ipython3",
   "version": "3.9.0a2+"
  }
 },
 "nbformat": 4,
 "nbformat_minor": 4
}
