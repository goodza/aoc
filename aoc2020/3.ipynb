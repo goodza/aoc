{
 "cells": [
  {
   "cell_type": "code",
   "execution_count": 1,
   "metadata": {},
   "outputs": [],
   "source": [
    "f = open('3.txt','r+').read().split('\\n')"
   ]
  },
  {
   "cell_type": "code",
   "execution_count": 17,
   "metadata": {},
   "outputs": [
    {
     "name": "stdout",
     "output_type": "stream",
     "text": [
      "63\n",
      "254\n",
      "62\n",
      "56\n",
      "30\n",
      "1666768320\n"
     ]
    }
   ],
   "source": [
    "\n",
    "def sloping(sx,sy):\n",
    "    t = 0\n",
    "    pos = [0,0]  # x,y\n",
    "    while pos[1]<len(f):\n",
    "        if f[pos[1]][pos[0]%len(f[0])] == '#':\n",
    "            t += 1\n",
    "        pos[0] += sx\n",
    "        pos[1] += sy\n",
    "    print(t)\n",
    "    return(t)\n",
    "\n",
    "print(sloping(1,1)*sloping(3,1)*sloping(5,1)*sloping(7,1)*sloping(1,2))"
   ]
  },
  {
   "cell_type": "code",
   "execution_count": null,
   "metadata": {},
   "outputs": [],
   "source": []
  }
 ],
 "metadata": {
  "kernelspec": {
   "display_name": "Python 3",
   "language": "python",
   "name": "python3"
  },
  "language_info": {
   "codemirror_mode": {
    "name": "ipython",
    "version": 3
   },
   "file_extension": ".py",
   "mimetype": "text/x-python",
   "name": "python",
   "nbconvert_exporter": "python",
   "pygments_lexer": "ipython3",
   "version": "3.7.3"
  }
 },
 "nbformat": 4,
 "nbformat_minor": 4
}
