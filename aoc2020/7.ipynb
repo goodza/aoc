{
 "cells": [
  {
   "cell_type": "code",
   "execution_count": null,
   "metadata": {},
   "outputs": [],
   "source": [
    "import re"
   ]
  },
  {
   "cell_type": "code",
   "execution_count": 32,
   "metadata": {},
   "outputs": [],
   "source": [
    "f = open('7.txt','r+').read().split(\"\\n\")"
   ]
  },
  {
   "cell_type": "code",
   "execution_count": 16,
   "metadata": {},
   "outputs": [],
   "source": [
    "q = 0\n",
    "s = set()\n",
    "\n",
    "def look(bag):\n",
    "    q = 0\n",
    "    for i in f:\n",
    "        p = i.split(' bags contain ')[0]\n",
    "#     c = i.split(' bags contain ')[1].replace(' bags,','').replace(' bags.','').split(' ')\n",
    "        if i.find(bag) != -1 and p != bag and p not in s:\n",
    "            q += 1\n",
    "            s.add(p)\n",
    "            q += look(p)\n",
    "    return q"
   ]
  },
  {
   "cell_type": "code",
   "execution_count": 17,
   "metadata": {},
   "outputs": [
    {
     "name": "stdout",
     "output_type": "stream",
     "text": [
      "197\n"
     ]
    }
   ],
   "source": [
    "print(look('shiny gold'))"
   ]
  },
  {
   "cell_type": "code",
   "execution_count": 35,
   "metadata": {},
   "outputs": [
    {
     "name": "stdout",
     "output_type": "stream",
     "text": [
      "85324\n"
     ]
    }
   ],
   "source": [
    "def count(bag):\n",
    "    q = 0\n",
    "    for i in f:\n",
    "        p = i.split(' bags contain ')[0]\n",
    "        if p == bag:\n",
    "            c = i.split(' bags contain ')[1].replace('.','').replace(' bags','').replace(' bag','').split(', ')\n",
    "            for j in c:\n",
    "                if j != 'no other':\n",
    "                    ci = int(j.split(' ')[0])\n",
    "                    cn = j.split(str(ci)+' ')[1]\n",
    "                    q += ci + ci*count(cn)\n",
    "    return q\n",
    "\n",
    "print(count('shiny gold'))"
   ]
  },
  {
   "cell_type": "code",
   "execution_count": null,
   "metadata": {},
   "outputs": [],
   "source": []
  }
 ],
 "metadata": {
  "kernelspec": {
   "display_name": "Python 3",
   "language": "python",
   "name": "python3"
  },
  "language_info": {
   "codemirror_mode": {
    "name": "ipython",
    "version": 3
   },
   "file_extension": ".py",
   "mimetype": "text/x-python",
   "name": "python",
   "nbconvert_exporter": "python",
   "pygments_lexer": "ipython3",
   "version": "3.7.3"
  }
 },
 "nbformat": 4,
 "nbformat_minor": 4
}
