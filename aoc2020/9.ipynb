{
 "cells": [
  {
   "cell_type": "code",
   "execution_count": 2,
   "metadata": {},
   "outputs": [],
   "source": [
    "f = [int(i) for i in open('9.txt','r+').read().split(\"\\n\")]"
   ]
  },
  {
   "cell_type": "code",
   "execution_count": 10,
   "metadata": {},
   "outputs": [
    {
     "name": "stdout",
     "output_type": "stream",
     "text": [
      "105950735\n"
     ]
    }
   ],
   "source": [
    "u = 0\n",
    "for i in range(25,len(f)):\n",
    "    pre = f[i-25:i]\n",
    "#     print(f[i],pre)\n",
    "    u = False\n",
    "    for j in pre:\n",
    "        if not u:\n",
    "            for jj in pre:\n",
    "                if j!=jj and j+jj==f[i]:\n",
    "                    u = True\n",
    "                    break\n",
    "        \n",
    "        else:\n",
    "            break\n",
    "    if not u:\n",
    "        print(f[i])\n",
    "            \n",
    "                \n",
    "    \n"
   ]
  },
  {
   "cell_type": "code",
   "execution_count": null,
   "metadata": {},
   "outputs": [],
   "source": []
  },
  {
   "cell_type": "code",
   "execution_count": null,
   "metadata": {},
   "outputs": [],
   "source": []
  },
  {
   "cell_type": "code",
   "execution_count": null,
   "metadata": {},
   "outputs": [],
   "source": []
  }
 ],
 "metadata": {
  "kernelspec": {
   "display_name": "Python 3",
   "language": "python",
   "name": "python3"
  },
  "language_info": {
   "codemirror_mode": {
    "name": "ipython",
    "version": 3
   },
   "file_extension": ".py",
   "mimetype": "text/x-python",
   "name": "python",
   "nbconvert_exporter": "python",
   "pygments_lexer": "ipython3",
   "version": "3.7.3"
  }
 },
 "nbformat": 4,
 "nbformat_minor": 4
}
