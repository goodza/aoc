{
 "cells": [
  {
   "cell_type": "code",
   "execution_count": 2,
   "metadata": {},
   "outputs": [],
   "source": [
    "f = open('5.txt','r+').read().split(\"\\n\")"
   ]
  },
  {
   "cell_type": "code",
   "execution_count": 3,
   "metadata": {},
   "outputs": [
    {
     "name": "stdout",
     "output_type": "stream",
     "text": [
      "974\n"
     ]
    }
   ],
   "source": [
    "# FBFBBFFRLR:\n",
    "\n",
    "#     Start by considering the whole range, rows 0 through 127.\n",
    "#     F means to take the lower half, keeping rows 0 through 63.\n",
    "#     B means to take the upper half, keeping rows 32 through 63.\n",
    "#     F means to take the lower half, keeping rows 32 through 47.\n",
    "#     B means to take the upper half, keeping rows 40 through 47.\n",
    "#     B keeps rows 44 through 47.\n",
    "#     F keeps rows 44 through 45.\n",
    "#     The final F keeps the lower of the two, row 44.\n",
    "\n",
    "# FBFBBFFRLR:\n",
    "\n",
    "#     Start by considering the whole range, columns 0 through 7.\n",
    "#     R means to take the upper half, keeping columns 4 through 7.\n",
    "#     L means to take the lower half, keeping columns 4 through 5.\n",
    "#     The final R keeps the upper of the two, column 5.\n",
    "\n",
    "m = 0\n",
    "\n",
    "for i in f:\n",
    "    h = 127\n",
    "    l = 0\n",
    "    s = 0\n",
    "    e = 7\n",
    "    for j in i:\n",
    "        if j == 'F':\n",
    "            h = (h - l) // 2 + l\n",
    "        if j == 'B':\n",
    "            l = h - (h - l) // 2\n",
    "        if j == 'L':\n",
    "            e = (e - s) // 2 + s\n",
    "        if j == 'R':\n",
    "            s = e - (e - s) // 2\n",
    "#     print(f\"{h*8+s}\")\n",
    "    a = h*8+e\n",
    "    if m < a:\n",
    "        m = a\n",
    "print(m)\n",
    "\n",
    "            "
   ]
  }
 ],
 "metadata": {
  "kernelspec": {
   "display_name": "Python 3",
   "language": "python",
   "name": "python3"
  },
  "language_info": {
   "codemirror_mode": {
    "name": "ipython",
    "version": 3
   },
   "file_extension": ".py",
   "mimetype": "text/x-python",
   "name": "python",
   "nbconvert_exporter": "python",
   "pygments_lexer": "ipython3",
   "version": "3.7.3"
  }
 },
 "nbformat": 4,
 "nbformat_minor": 4
}
