{
 "cells": [
  {
   "cell_type": "code",
   "execution_count": 54,
   "metadata": {},
   "outputs": [],
   "source": [
    "f = open('8.txt','r+').read().split(\"\\n\")"
   ]
  },
  {
   "cell_type": "code",
   "execution_count": 57,
   "metadata": {},
   "outputs": [
    {
     "name": "stdout",
     "output_type": "stream",
     "text": [
      "2188\n"
     ]
    }
   ],
   "source": [
    "for k,e in enumerate(f):\n",
    "    \n",
    "    ff = f.copy()\n",
    "    if e.find('jmp') != -1:\n",
    "        ff[k] = ff[k].replace('jmp','nop')\n",
    "    elif e.find('nop') != -1:\n",
    "        ff[k] = ff[k].replace('nop','jmp')\n",
    "    d = set()\n",
    "    a,i = 0,0\n",
    "\n",
    "    while i<len(ff) and i not in d:\n",
    "\n",
    "        d.add(i)\n",
    "        [c,n] = ff[i].split(' ')\n",
    "\n",
    "        if c == 'acc':\n",
    "            a += int(n)\n",
    "\n",
    "        if c == 'jmp':\n",
    "            i += int(n)\n",
    "        else: \n",
    "            i += 1\n",
    "\n",
    "    if i == len(f):\n",
    "        print(a)\n",
    "        break\n"
   ]
  },
  {
   "cell_type": "code",
   "execution_count": null,
   "metadata": {},
   "outputs": [],
   "source": []
  }
 ],
 "metadata": {
  "kernelspec": {
   "display_name": "Python 3",
   "language": "python",
   "name": "python3"
  },
  "language_info": {
   "codemirror_mode": {
    "name": "ipython",
    "version": 3
   },
   "file_extension": ".py",
   "mimetype": "text/x-python",
   "name": "python",
   "nbconvert_exporter": "python",
   "pygments_lexer": "ipython3",
   "version": "3.7.3"
  }
 },
 "nbformat": 4,
 "nbformat_minor": 4
}
