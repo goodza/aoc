{
 "cells": [
  {
   "cell_type": "code",
   "execution_count": 24,
   "metadata": {},
   "outputs": [],
   "source": [
    "import re"
   ]
  },
  {
   "cell_type": "code",
   "execution_count": 53,
   "metadata": {},
   "outputs": [],
   "source": [
    "f = open('4.txt','r+').read().split(\"\\n\\n\")"
   ]
  },
  {
   "cell_type": "code",
   "execution_count": 60,
   "metadata": {},
   "outputs": [
    {
     "name": "stdout",
     "output_type": "stream",
     "text": [
      "179\n"
     ]
    }
   ],
   "source": [
    "fields = {'hcl', 'ecl', 'byr', 'iyr', 'eyr', 'hgt', 'pid', 'cid'}\n",
    "\n",
    "c = 0\n",
    "\n",
    "for i in f:\n",
    "    j = re.split('[ \\n]', i) #split by space either newline\n",
    "    t = {'cid':'0'}\n",
    "    \n",
    "    for jj in j:\n",
    "        t[jj.split(':')[0]] = jj.split(':')[1]\n",
    "    \n",
    "#     (HCL) - a '#' followed by exactly six characters 0-9 or a-f\n",
    "#     (Eye Color) - exactly one of: amb blu brn gry grn hzl oth.\n",
    "#     byr (Birth Year) - four digits; at least 1920 and at most 2002.\n",
    "#     iyr (Issue Year) - four digits; at least 2010 and at most 2020.\n",
    "#     eyr (Expiration Year) - four digits; at least 2020 and at most 2030.\n",
    "\n",
    "#     hgt (Height) - a number followed by either cm or in:\n",
    "\n",
    "#     If cm, the number must be at least 150 and at most 193.\n",
    "#     If in, the number must be at least 59 and at most 76.\n",
    "\n",
    "#     pid (Passport ID) - a nine-digit number, including leading zeroes.\n",
    "\n",
    "\n",
    "    if len(t) == len(fields):\n",
    "        if not None in [re.fullmatch('^(#[0-9a-f]{6})$',t['hcl']),\n",
    "                        re.fullmatch('^(amb|blu|brn|gry|grn|hzl|oth)$',t['ecl']),\n",
    "                        re.fullmatch('^(19[2-9][0-9]|200[0-2])$',t['byr']),\n",
    "                        re.fullmatch('^(201[0-9]|2020)$',t['iyr']),\n",
    "                        re.fullmatch('^(202[0-9]|2030)$',t['eyr']),\n",
    "                        re.fullmatch('^((1[5-8][0-9]cm|19[0-3]cm)|(59in|6[0-9]in|7[0-6]in))$',t['hgt']),\n",
    "                        re.fullmatch('^([0-9]{9})$',t['pid'])\n",
    "                       ]:\n",
    "            c += 1\n",
    "    \n",
    "\n",
    "print(c)"
   ]
  }
 ],
 "metadata": {
  "kernelspec": {
   "display_name": "Python 3",
   "language": "python",
   "name": "python3"
  },
  "language_info": {
   "codemirror_mode": {
    "name": "ipython",
    "version": 3
   },
   "file_extension": ".py",
   "mimetype": "text/x-python",
   "name": "python",
   "nbconvert_exporter": "python",
   "pygments_lexer": "ipython3",
   "version": "3.7.3"
  }
 },
 "nbformat": 4,
 "nbformat_minor": 4
}
