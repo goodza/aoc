{
 "cells": [
  {
   "cell_type": "code",
   "execution_count": 4,
   "metadata": {},
   "outputs": [],
   "source": [
    "f = open('2.txt','r+').read().split('\\n')"
   ]
  },
  {
   "cell_type": "code",
   "execution_count": 25,
   "metadata": {},
   "outputs": [
    {
     "name": "stdout",
     "output_type": "stream",
     "text": [
      "443\n"
     ]
    }
   ],
   "source": [
    "c = 0\n",
    "for i in f:\n",
    "    psw = i.split(': ')[1]\n",
    "    lt = i.split(': ')[0][-1:]\n",
    "    r = i.split(' ')[0]\n",
    "    f1 = int(r.split('-')[0])-1\n",
    "    f2 = int(r.split('-')[1])-1\n",
    "    if (psw[f1] != psw[f2]) and (psw[f1] == lt or psw[f2] == lt):\n",
    "        c+=1\n",
    "print(c)"
   ]
  }
 ],
 "metadata": {
  "kernelspec": {
   "display_name": "Python 3",
   "language": "python",
   "name": "python3"
  },
  "language_info": {
   "codemirror_mode": {
    "name": "ipython",
    "version": 3
   },
   "file_extension": ".py",
   "mimetype": "text/x-python",
   "name": "python",
   "nbconvert_exporter": "python",
   "pygments_lexer": "ipython3",
   "version": "3.7.3"
  }
 },
 "nbformat": 4,
 "nbformat_minor": 4
}
