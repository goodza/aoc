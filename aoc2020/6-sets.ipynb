{
 "cells": [
  {
   "cell_type": "code",
   "execution_count": 4,
   "metadata": {},
   "outputs": [],
   "source": [
    "groups = open('6.txt','r+').read().split(\"\\n\\n\")"
   ]
  },
  {
   "cell_type": "code",
   "execution_count": 10,
   "metadata": {},
   "outputs": [
    {
     "name": "stdout",
     "output_type": "stream",
     "text": [
      "3640\n"
     ]
    }
   ],
   "source": [
    "c = 0\n",
    "for i in groups:\n",
    "    p = i.split('\\n')\n",
    "    a = set()\n",
    "    for ki,k in enumerate(p):\n",
    "        b = set()\n",
    "        for j in k:\n",
    "            b.add(j)\n",
    "        a = b if ki == 0 else a.intersection(b)\n",
    "    c += len(a)\n",
    "print(c)"
   ]
  }
 ],
 "metadata": {
  "kernelspec": {
   "display_name": "Python 3",
   "language": "python",
   "name": "python3"
  },
  "language_info": {
   "codemirror_mode": {
    "name": "ipython",
    "version": 3
   },
   "file_extension": ".py",
   "mimetype": "text/x-python",
   "name": "python",
   "nbconvert_exporter": "python",
   "pygments_lexer": "ipython3",
   "version": "3.7.3"
  }
 },
 "nbformat": 4,
 "nbformat_minor": 4
}
