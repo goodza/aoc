{
 "cells": [
  {
   "cell_type": "code",
   "execution_count": 3,
   "metadata": {},
   "outputs": [],
   "source": [
    "f = [int(i) for i in open('aoc2020/1.txt','r+').read().split('\\n')]"
   ]
  },
  {
   "cell_type": "code",
   "execution_count": 4,
   "metadata": {},
   "outputs": [
    {
     "name": "stdout",
     "output_type": "stream",
     "text": [
      "[285, 332, 639, 685, 687, 796, 817, 830, 858, 978, 1040, 1154, 1182, 1194, 1199, 1201, 1205, 1224, 1233, 1245, 1261, 1267, 1268, 1285, 1286, 1347, 1348, 1355, 1361, 1363, 1365, 1374, 1376, 1383, 1387, 1391, 1393, 1398, 1400, 1401, 1404, 1408, 1417, 1418, 1423, 1425, 1428, 1429, 1430, 1435, 1436, 1441, 1442, 1446, 1454, 1458, 1460, 1462, 1468, 1470, 1471, 1472, 1474, 1478, 1479, 1482, 1483, 1485, 1487, 1488, 1489, 1504, 1505, 1509, 1510, 1528, 1540, 1542, 1543, 1555, 1557, 1560, 1566, 1567, 1568, 1570, 1577, 1587, 1588, 1598, 1606, 1611, 1621, 1629, 1631, 1632, 1634, 1649, 1652, 1663, 1672, 1673, 1674, 1681, 1683, 1685, 1689, 1690, 1700, 1714, 1715, 1725, 1727, 1734, 1743, 1745, 1746, 1748, 1751, 1755, 1756, 1757, 1759, 1761, 1766, 1767, 1768, 1771, 1777, 1779, 1783, 1784, 1787, 1789, 1791, 1792, 1795, 1805, 1806, 1807, 1809, 1810, 1812, 1815, 1819, 1820, 1821, 1825, 1826, 1833, 1835, 1838, 1846, 1849, 1852, 1853, 1858, 1860, 1865, 1868, 1869, 1870, 1872, 1876, 1882, 1883, 1888, 1889, 1897, 1899, 1904, 1911, 1914, 1918, 1926, 1929, 1936, 1937, 1941, 1942, 1943, 1946, 1951, 1952, 1957, 1959, 1960, 1962, 1964, 1968, 1974, 1978, 1986, 1990, 1992, 1993, 2001, 2004, 2005, 2007]\n"
     ]
    }
   ],
   "source": [
    "f.sort()\n",
    "print(f)"
   ]
  },
  {
   "cell_type": "code",
   "execution_count": 7,
   "metadata": {},
   "outputs": [
    {
     "name": "stdout",
     "output_type": "stream",
     "text": [
      "236430480\n"
     ]
    },
    {
     "ename": "ZeroDivisionError",
     "evalue": "division by zero",
     "output_type": "error",
     "traceback": [
      "\u001b[0;31m---------------------------------------------------------------------------\u001b[0m",
      "\u001b[0;31mZeroDivisionError\u001b[0m                         Traceback (most recent call last)",
      "\u001b[0;32m<ipython-input-7-da2a04760e38>\u001b[0m in \u001b[0;36m<module>\u001b[0;34m\u001b[0m\n\u001b[1;32m      4\u001b[0m             \u001b[0;32mif\u001b[0m \u001b[0mi\u001b[0m\u001b[0;34m+\u001b[0m\u001b[0mj\u001b[0m\u001b[0;34m+\u001b[0m\u001b[0mk\u001b[0m \u001b[0;34m==\u001b[0m \u001b[0;36m2020\u001b[0m\u001b[0;34m:\u001b[0m\u001b[0;34m\u001b[0m\u001b[0;34m\u001b[0m\u001b[0m\n\u001b[1;32m      5\u001b[0m                 \u001b[0mprint\u001b[0m\u001b[0;34m(\u001b[0m\u001b[0mi\u001b[0m\u001b[0;34m*\u001b[0m\u001b[0mj\u001b[0m\u001b[0;34m*\u001b[0m\u001b[0mk\u001b[0m\u001b[0;34m)\u001b[0m\u001b[0;34m\u001b[0m\u001b[0;34m\u001b[0m\u001b[0m\n\u001b[0;32m----> 6\u001b[0;31m                 \u001b[0;36m1\u001b[0m\u001b[0;34m/\u001b[0m\u001b[0;36m0\u001b[0m\u001b[0;34m\u001b[0m\u001b[0;34m\u001b[0m\u001b[0m\n\u001b[0m",
      "\u001b[0;31mZeroDivisionError\u001b[0m: division by zero"
     ]
    }
   ],
   "source": [
    "for i in f:\n",
    "    for j in f:\n",
    "        for k in f:\n",
    "            if i+j+k == 2020:\n",
    "                print(i*j*k)\n",
    "                1/0"
   ]
  },
  {
   "cell_type": "code",
   "execution_count": null,
   "metadata": {},
   "outputs": [],
   "source": []
  }
 ],
 "metadata": {
  "kernelspec": {
   "display_name": "Python 3",
   "language": "python",
   "name": "python3"
  },
  "language_info": {
   "codemirror_mode": {
    "name": "ipython",
    "version": 3
   },
   "file_extension": ".py",
   "mimetype": "text/x-python",
   "name": "python",
   "nbconvert_exporter": "python",
   "pygments_lexer": "ipython3",
   "version": "3.7.3"
  }
 },
 "nbformat": 4,
 "nbformat_minor": 4
}
