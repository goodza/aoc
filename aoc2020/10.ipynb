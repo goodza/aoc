{
 "cells": [
  {
   "cell_type": "code",
   "execution_count": 25,
   "metadata": {},
   "outputs": [],
   "source": [
    "f = sorted([int(i) for i in open('10.txt','r+').read().split(\"\\n\")].copy())\n",
    "f.insert(0,0)"
   ]
  },
  {
   "cell_type": "code",
   "execution_count": 26,
   "metadata": {},
   "outputs": [
    {
     "name": "stdout",
     "output_type": "stream",
     "text": [
      "[0, 1, 2, 5, 8, 9, 10, 11, 14, 15, 16, 17, 18, 21, 22, 23, 26, 29, 30, 31, 32, 33, 36, 37, 38, 39, 40, 43, 44, 45, 46, 47, 50, 53, 56, 57, 58, 59, 62, 65, 66, 67, 68, 71, 72, 75, 76, 79, 80, 81, 82, 83, 86, 87, 88, 89, 92, 95, 96, 97, 98, 101, 102, 103, 104, 107, 108, 109, 110, 111, 114, 115, 118, 119, 120, 121, 124, 125, 126, 127, 130, 131, 132, 133, 134, 137, 138, 139, 140, 143, 144, 145, 146, 149, 152, 153, 154, 155, 156]\n"
     ]
    }
   ],
   "source": [
    "print(f)"
   ]
  },
  {
   "cell_type": "code",
   "execution_count": 31,
   "metadata": {
    "slideshow": {
     "slide_type": "slide"
    }
   },
   "outputs": [
    {
     "name": "stdout",
     "output_type": "stream",
     "text": [
      "None\n",
      "2\n"
     ]
    }
   ],
   "source": [
    "d = 0\n",
    "\n",
    "t = 1\n",
    "\n",
    "def chain(i,f):\n",
    "    global d\n",
    "    \n",
    "\n",
    "    for j in range(1,4):    \n",
    "        if i<len(f)-j:\n",
    "            if f[i+j]-f[i] in [1,2,3]:\n",
    "#                 print(f[i],f[i+j])\n",
    "                chain(i+j,f)\n",
    "                if i+j == len(f)-1:\n",
    "                    d += 1\n",
    "\n",
    "print(chain(0,f[0:5]))\n",
    "print(d)\n",
    "\n",
    "\n"
   ]
  },
  {
   "cell_type": "code",
   "execution_count": 29,
   "metadata": {},
   "outputs": [
    {
     "name": "stdout",
     "output_type": "stream",
     "text": [
      "[[0, 1, 2], [5], [8, 9, 10, 11], [14, 15, 16, 17, 18], [21, 22, 23], [26], [29, 30, 31, 32, 33], [36, 37, 38, 39, 40], [43, 44, 45, 46, 47], [50], [53], [56, 57, 58, 59], [62], [65, 66, 67, 68], [71, 72], [75, 76], [79, 80, 81, 82, 83], [86, 87, 88, 89], [92], [95, 96, 97, 98], [101, 102, 103, 104], [107, 108, 109, 110, 111], [114, 115], [118, 119, 120, 121], [124, 125, 126, 127], [130, 131, 132, 133, 134], [137, 138, 139, 140], [143, 144, 145, 146], [149], [152, 153, 154, 155, 156]] 30\n",
      "3454189699072\n"
     ]
    }
   ],
   "source": [
    "t = 0\n",
    "l = []\n",
    "m = 1\n",
    "\n",
    "for i in range(1,len(f)):\n",
    "  \n",
    "    if f[i]-f[i-1] == 3:\n",
    "        \n",
    "        l.append(f[t:i])\n",
    "#         print(i-t)\n",
    "        if i-t == 5:\n",
    "            m *= 7\n",
    "        if i-t == 4:\n",
    "            m *= 4\n",
    "        if i-t == 3:\n",
    "            m *= 2\n",
    "        t = i\n",
    "#         print(f[i],t)\n",
    "    \n",
    "l.append(f[t:len(f)])\n",
    "print(l,len(l))\n",
    "print(m)"
   ]
  },
  {
   "cell_type": "code",
   "execution_count": null,
   "metadata": {},
   "outputs": [],
   "source": []
  }
 ],
 "metadata": {
  "kernelspec": {
   "display_name": "Python 3",
   "language": "python",
   "name": "python3"
  },
  "language_info": {
   "codemirror_mode": {
    "name": "ipython",
    "version": 3
   },
   "file_extension": ".py",
   "mimetype": "text/x-python",
   "name": "python",
   "nbconvert_exporter": "python",
   "pygments_lexer": "ipython3",
   "version": "3.7.9"
  }
 },
 "nbformat": 4,
 "nbformat_minor": 4
}
