{
 "cells": [
  {
   "cell_type": "code",
   "execution_count": 20,
   "metadata": {},
   "outputs": [],
   "source": [
    "f = sorted([int(i) for i in open('10.txt','r+').read().split(\"\\n\")].copy())"
   ]
  },
  {
   "cell_type": "code",
   "execution_count": 21,
   "metadata": {},
   "outputs": [
    {
     "name": "stdout",
     "output_type": "stream",
     "text": [
      "[1, 4, 5, 6, 7, 10, 11, 12, 15, 16, 19]\n"
     ]
    }
   ],
   "source": [
    "print(f)\n",
    "    "
   ]
  },
  {
   "cell_type": "code",
   "execution_count": 23,
   "metadata": {},
   "outputs": [
    {
     "name": "stdout",
     "output_type": "stream",
     "text": [
      "35\n"
     ]
    }
   ],
   "source": [
    "ddd = 1\n",
    "dd = 1\n",
    "d = 1\n",
    "i = 1\n",
    "\n",
    "while i<len(f):\n",
    "    if f[i] - f[i-1] == 1:\n",
    "        d += 1\n",
    "    elif f[i] - f[i-1] == 2:\n",
    "        print(f[i])\n",
    "        dd += 1\n",
    "    elif f[i] - f[i-1] == 3:\n",
    "        ddd += 1\n",
    "    else:\n",
    "        print('Error')\n",
    "        break\n",
    "    i += 1\n",
    "\n",
    "print(d*ddd)"
   ]
  },
  {
   "cell_type": "code",
   "execution_count": null,
   "metadata": {},
   "outputs": [],
   "source": []
  }
 ],
 "metadata": {
  "kernelspec": {
   "display_name": "Python 3",
   "language": "python",
   "name": "python3"
  },
  "language_info": {
   "codemirror_mode": {
    "name": "ipython",
    "version": 3
   },
   "file_extension": ".py",
   "mimetype": "text/x-python",
   "name": "python",
   "nbconvert_exporter": "python",
   "pygments_lexer": "ipython3",
   "version": "3.7.3"
  }
 },
 "nbformat": 4,
 "nbformat_minor": 4
}
