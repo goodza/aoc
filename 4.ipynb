{
 "cells": [
  {
   "cell_type": "code",
   "execution_count": 57,
   "metadata": {},
   "outputs": [
    {
     "name": "stdout",
     "output_type": "stream",
     "text": [
      "1991\n"
     ]
    }
   ],
   "source": [
    "## The bydlocode\n",
    "\n",
    "c = 0;\n",
    "for i in range(109165,576723+1):\n",
    "\n",
    "    s = str(i)\n",
    "    fd = False\n",
    "    fl = False\n",
    "    ff = False\n",
    "    l = 1\n",
    "    pl = 7\n",
    "    for j in range(0,len(s)-1):\n",
    "        #print(s[j]+':')\n",
    "        if int(s[j+1])>=int(s[j]):\n",
    "            if s[j+1] == s[j]:\n",
    "                ff = True\n",
    "                l+=1\n",
    "                if j==len(s)-2 and l==2:\n",
    "                    fl = True\n",
    "            else: \n",
    "                if l == 2:\n",
    "                    fl = True\n",
    "                pl = l\n",
    "                l = 1\n",
    "        else:\n",
    "            fd = True\n",
    "        \n",
    "            \n",
    "    if not fd and fl and ff:\n",
    "        c+=1\n",
    "\n",
    "print(c)"
   ]
  },
  {
   "cell_type": "code",
   "execution_count": 69,
   "metadata": {},
   "outputs": [
    {
     "name": "stdout",
     "output_type": "stream",
     "text": [
      "2814\n",
      "1991\n"
     ]
    }
   ],
   "source": [
    "## The elegant one\n",
    "\n",
    "def countpass(check, password):\n",
    "    if any(password[i+1]<password[i] for i in range (0,len(password)-1)):\n",
    "        return False\n",
    "    rate = list(password.count(ch) for ch in password)\n",
    "    return any(check(r) for r in rate)\n",
    "\n",
    "print(sum(countpass(lambda x: x >= 2, str(password)) for password in range(109165,576723+1)))\n",
    "print(sum(countpass(lambda x: x == 2, str(password)) for password in range(109165,576723+1)))\n",
    "    "
   ]
  }
 ],
 "metadata": {
  "kernelspec": {
   "display_name": "Python 3",
   "language": "python",
   "name": "python3"
  },
  "language_info": {
   "codemirror_mode": {
    "name": "ipython",
    "version": 3
   },
   "file_extension": ".py",
   "mimetype": "text/x-python",
   "name": "python",
   "nbconvert_exporter": "python",
   "pygments_lexer": "ipython3",
   "version": "3.7.3"
  }
 },
 "nbformat": 4,
 "nbformat_minor": 2
}
